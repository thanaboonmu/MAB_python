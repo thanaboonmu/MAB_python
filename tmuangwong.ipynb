{
 "cells": [
  {
   "cell_type": "markdown",
   "metadata": {},
   "source": [
    "# COMP90051 Project 2"
   ]
  },
  {
   "cell_type": "code",
   "execution_count": 2,
   "metadata": {},
   "outputs": [],
   "source": [
    "# Do not edit. These are the only imports permitted.\n",
    "%matplotlib inline\n",
    "import numpy as np\n",
    "from numpy.linalg import inv\n",
    "import matplotlib.pyplot as plt\n",
    "from abc import ABC, abstractmethod"
   ]
  },
  {
   "cell_type": "markdown",
   "metadata": {},
   "source": [
    "## 1. Implementing ε-Greedy and UCB"
   ]
  },
  {
   "cell_type": "code",
   "execution_count": 4,
   "metadata": {},
   "outputs": [],
   "source": [
    "class MAB(ABC):\n",
    "    \"\"\"\n",
    "    Abstract class that represents a multi-armed bandit (MAB)\n",
    "    \"\"\"\n",
    "    \n",
    "    @abstractmethod\n",
    "    def play(self, tround, context):\n",
    "        \"\"\"\n",
    "        Play a round\n",
    "        \n",
    "        Arguments\n",
    "        =========\n",
    "        tround : int\n",
    "            positive integer identifying the round\n",
    "        \n",
    "        context : 1D float array, shape (self.ndims * self.narms), optional\n",
    "            context given to the arms\n",
    "        \n",
    "        Returns\n",
    "        =======\n",
    "        arm : int\n",
    "            the positive integer arm id for this round\n",
    "        \"\"\"\n",
    "    \n",
    "    @abstractmethod\n",
    "    def update(self, arm, reward, context):\n",
    "        \"\"\"\n",
    "        Updates the internal state of the MAB after a play\n",
    "        \n",
    "        Arguments\n",
    "        =========\n",
    "        arm : int\n",
    "            a positive integer arm id in {1, ..., self.narms}\n",
    "        \n",
    "        reward : float\n",
    "            reward received from arm\n",
    "        \n",
    "        context : 1D float array, shape (self.ndims * self.narms), optional\n",
    "            context given to arms\n",
    "        \"\"\""
   ]
  },
  {
   "cell_type": "code",
   "execution_count": 5,
   "metadata": {},
   "outputs": [],
   "source": [
    "class EpsGreedy(MAB):\n",
    "    \"\"\"\n",
    "    Epsilon-Greedy multi-armed bandit\n",
    "\n",
    "    Arguments\n",
    "    =========\n",
    "    narms : int\n",
    "        number of arms\n",
    "\n",
    "    epsilon : float\n",
    "        explore probability\n",
    "\n",
    "    Q0 : float, optional\n",
    "        initial value for the arms\n",
    "    \"\"\"\n",
    "    def __init__(self, narms, epsilon, Q0=np.inf):\n",
    "        ## Check that narms is positive value\n",
    "        assert narms>0\n",
    "        ## Check epsilon that should be in range (0,1]\n",
    "        assert (epsilon>0 and epsilon<=1 )\n",
    "        self.narms=int(narms)\n",
    "        self.epsilon=float(epsilon)\n",
    "        self.Q0=Q0\n",
    "        \n",
    "        ## Initialize default value for each arm both estimate \n",
    "        ## and count of how many the arm has been selected\n",
    "        self.count = [0 for i in range(self.narms) ]\n",
    "        self.estimate = [ self.Q0 for i in range(self.narms)]\n",
    "        \n",
    "    def play(self, tround, context=None):\n",
    "        ## Check that tround need to be positive integer\n",
    "        assert tround>0\n",
    "        self.tround=tround\n",
    "        ## Random by using binomail of probability of self.epsilon\n",
    "        ## Output is either 1 or 0\n",
    "        ## If 1, then it's explore else exploit\n",
    "        prob=np.random.binomial(1,self.epsilon)\n",
    "        if(prob):\n",
    "            ## Randomly select arm\n",
    "            return np.random.randint(self.narms)\n",
    "        else:\n",
    "            ## Tie-breaking at completely uniformly-at-random\n",
    "            index_list = [i for i,j in enumerate(self.estimate) if j==max(self.estimate)]\n",
    "            return np.random.choice(index_list)+1\n",
    "        \n",
    "    def update(self, arm, reward, context=None):\n",
    "        ## Check that arm value is no larger than narms\n",
    "        assert arm <= self.narms\n",
    "        self.arm=arm\n",
    "        self.reward=float(reward)\n",
    "        ## Increment count of arm that is selected\n",
    "        self.count[self.arm-1] += 1\n",
    "        \n",
    "        ## if self.estimate of that arm is infinity\n",
    "        ## Change it to 0 because if not, infinity plus any value is infinity\n",
    "        if self.estimate[self.arm-1] == np.inf:\n",
    "            self.estimate[self.arm-1] = 0 \n",
    "        self.estimate[self.arm-1] += (self.reward - self.estimate[self.arm-1]) / float(self.count[self.arm-1])\n",
    "    "
   ]
  },
  {
   "cell_type": "code",
   "execution_count": 6,
   "metadata": {},
   "outputs": [],
   "source": [
    "class UCB(MAB):\n",
    "    \"\"\"\n",
    "    Upper Confidence Bound (UCB) multi-armed bandit\n",
    "\n",
    "    Arguments\n",
    "    =========\n",
    "    narms : int\n",
    "        number of arms\n",
    "\n",
    "    rho : float\n",
    "        positive real explore-exploit parameter\n",
    "\n",
    "    Q0 : float, optional\n",
    "        initial value for the arms\n",
    "    \"\"\"\n",
    "    \n",
    "    def __init__(self, narms, rho, Q0=np.inf):\n",
    "        ## Check that narms and rho is positive value\n",
    "        assert narms>0\n",
    "        assert rho>0\n",
    "        self.narms=int(narms)\n",
    "        self.rho=float(rho)\n",
    "        self.Q0=Q0\n",
    "        ## Initialize default value for each arm both estimate \n",
    "        ## and count of how many the arm has been selected\n",
    "        self.count = [0 for i in range(self.narms) ]\n",
    "        self.estimate = [ self.Q0 for i in range(self.narms)]\n",
    "    \n",
    "    def play(self, tround, context=None):\n",
    "        ## Check that tround need to be positive integer\n",
    "        assert tround>=0\n",
    "        self.tround=tround\n",
    "        #Check that is sum of count is greater than zero\n",
    "        #If true then add estimate with the formula to q\n",
    "        #else use inital value of Q0\n",
    "        if np.sum(self.count)>0:\n",
    "            q = self.estimate+np.sqrt(self.rho * np.log(self.tround) / (self.count))\n",
    "        else:\n",
    "            q = self.estimate\n",
    "        ## Tie-breaking at completely uniformly-at-random\n",
    "        result = [i for i,j in enumerate(q) if j==max(q)]\n",
    "        return np.random.choice(result)+1\n",
    "        \n",
    "    def update(self, arm, reward, context=None):\n",
    "        ## Check that arm value is no larger than narms\n",
    "        assert arm <= self.narms\n",
    "        self.arm=arm\n",
    "        self.reward=float(reward)\n",
    "        \n",
    "        ## Increment count of arm that is selected\n",
    "        self.count[self.arm-1] += 1\n",
    "        ## if self.estimate of that arm is infinity\n",
    "        ## Change it to 0 because if not, infinity plus any value is infinity\n",
    "        if self.estimate[self.arm-1] == np.inf:\n",
    "            self.estimate[self.arm-1] = 0 \n",
    "        #Update estimate value\n",
    "        self.estimate[self.arm-1] += (self.reward - self.estimate[self.arm-1]) / float(self.count[self.arm-1])\n",
    "    \n",
    "    "
   ]
  },
  {
   "cell_type": "markdown",
   "metadata": {},
   "source": [
    "## 2. The Basic Thompson Bandit"
   ]
  },
  {
   "cell_type": "code",
   "execution_count": 7,
   "metadata": {},
   "outputs": [],
   "source": [
    "class BetaThompson(MAB):\n",
    "    \"\"\"\n",
    "    Beta-Bernoulli Thompson sampling multi-armed bandit\n",
    "\n",
    "    Arguments\n",
    "    =========\n",
    "    narms : int\n",
    "        number of arms\n",
    "\n",
    "    alpha0 : float, optional\n",
    "        positive real prior hyperparameter\n",
    "\n",
    "    beta0 : float, optional\n",
    "        positive real prior hyperparameter\n",
    "    \"\"\"\n",
    "    \n",
    "    def __init__(self, narms, alpha0=1.0, beta0=1.0):\n",
    "        ## Check that narms and rho is positive value\n",
    "        assert narms>0\n",
    "        self.narms=int(narms)\n",
    "        \n",
    "        ##Initialize alpha and beta for each arm\n",
    "        self.alpha= [alpha0 for i in range(self.narms)]\n",
    "        self.beta= [beta0 for i in range(self.narms)]\n",
    "    \n",
    "    def play(self, tround, context=None):\n",
    "        ## Check that tround need to be positive integer\n",
    "        assert tround>0\n",
    "        self.tround=tround\n",
    "        ## Sample from beta distribution by using alpha and beta\n",
    "        ## value for each arm\n",
    "        beta_sample=[np.random.beta(self.alpha[i],self.beta[i]) for i in range(self.narms)]\n",
    "        ## Tie-breaking at completely uniformly-at-random\n",
    "        result = [i for i,j in enumerate(beta_sample) if j==max(beta_sample)]\n",
    "        return np.random.choice(result)+1\n",
    "\n",
    "    def update(self, arm, reward, context=None):\n",
    "        ## Check that arm value is no larger than narms\n",
    "        assert arm <= self.narms\n",
    "        self.arm=arm\n",
    "        self.reward=float(reward)\n",
    "        \n",
    "        ## Observe reward if reward equal 1 then update\n",
    "        ## alpha value of that arm by one else update beta value by 1\n",
    "        if(self.reward == 1.0):\n",
    "            self.alpha[self.arm-1]+=1.0\n",
    "        else:\n",
    "            self.beta[self.arm-1]+=1.0"
   ]
  },
  {
   "cell_type": "markdown",
   "metadata": {},
   "source": [
    "## 3. Off-Policy Evaluation"
   ]
  },
  {
   "cell_type": "code",
   "execution_count": 8,
   "metadata": {},
   "outputs": [],
   "source": [
    "def offlineEvaluate(mab, arms, rewards, contexts, nrounds=None):\n",
    "    \"\"\"\n",
    "    Offline evaluation of a multi-armed bandit\n",
    "    \n",
    "    Arguments\n",
    "    =========\n",
    "    mab : instance of MAB\n",
    "    \n",
    "    arms : 1D int array, shape (nevents,) \n",
    "        integer arm id for each event\n",
    "    \n",
    "    rewards : 1D float array, shape (nevents,)\n",
    "        reward received for each event\n",
    "    \n",
    "    contexts : 2D float array, shape (nevents, mab.narms*nfeatures)\n",
    "        contexts presented to the arms (stacked horizontally) \n",
    "        for each event.\n",
    "        \n",
    "    nrounds : int, optional\n",
    "        number of matching events to evaluate `mab` on.\n",
    "    \n",
    "    Returns\n",
    "    =======\n",
    "    out : 1D float array\n",
    "        rewards for the matching events\n",
    "    \"\"\"\n",
    "    \n",
    "    #Initailize list for history and reward\n",
    "    history=list()\n",
    "    reward_a=list()\n",
    "    #Counter variable for when it equal to nrounds then break the loop\n",
    "    j=0\n",
    "    \n",
    "    #Iterate by using range of context\n",
    "    for i in range(contexts.shape[0]):\n",
    "        \n",
    "        if j==nrounds:\n",
    "            break\n",
    "        #Play the mab if it's equal to arms then update the mab\n",
    "        if(mab.play(len(history)+1,contexts[i,:]) == arms[i]):\n",
    "            mab.update(arms[i],rewards[i],contexts[i,:])\n",
    "            #Append the history,arm,reward and context to the history list\n",
    "            history.append([history,arms[i],rewards[i],contexts[i,:]])\n",
    "            #Append the rewards to reward list\n",
    "            reward_a.append(rewards[i])\n",
    "            j+=1\n",
    "    return reward_a"
   ]
  },
  {
   "cell_type": "code",
   "execution_count": 9,
   "metadata": {},
   "outputs": [],
   "source": [
    "#Read the file\n",
    "dataset = np.loadtxt(\"dataset.txt\")\n",
    "arms = dataset[:,0]\n",
    "rewards = dataset[:,1]\n",
    "contexts = dataset[:,2:]\n",
    "#Arms need to be integer\n",
    "arms=arms.astype(\"int\")"
   ]
  },
  {
   "cell_type": "code",
   "execution_count": 10,
   "metadata": {},
   "outputs": [
    {
     "name": "stdout",
     "output_type": "stream",
     "text": [
      "EpsGreedy average reward 0.27\n"
     ]
    }
   ],
   "source": [
    "mab = EpsGreedy(10, 0.05)\n",
    "results_EpsGreedy = offlineEvaluate(mab, arms, rewards, contexts, 800)\n",
    "print('EpsGreedy average reward', np.mean(results_EpsGreedy))"
   ]
  },
  {
   "cell_type": "code",
   "execution_count": 11,
   "metadata": {},
   "outputs": [
    {
     "name": "stderr",
     "output_type": "stream",
     "text": [
      "/usr/local/lib/python3.7/site-packages/ipykernel_launcher.py:37: RuntimeWarning: divide by zero encountered in true_divide\n"
     ]
    },
    {
     "name": "stdout",
     "output_type": "stream",
     "text": [
      "UCB average reward 0.17\n"
     ]
    }
   ],
   "source": [
    "mab = UCB(10, 1.0)\n",
    "results_UCB = offlineEvaluate(mab, arms, rewards, contexts, 800)\n",
    "print('UCB average reward', np.mean(results_UCB))"
   ]
  },
  {
   "cell_type": "code",
   "execution_count": 12,
   "metadata": {},
   "outputs": [
    {
     "name": "stdout",
     "output_type": "stream",
     "text": [
      "BetaThompson average reward 0.21375\n"
     ]
    }
   ],
   "source": [
    "mab = BetaThompson(10, 1.0, 1.0)\n",
    "results_BetaThompson = offlineEvaluate(mab, arms, rewards, contexts, 800)\n",
    "print('BetaThompson average reward', np.mean(results_BetaThompson))"
   ]
  },
  {
   "cell_type": "markdown",
   "metadata": {},
   "source": [
    "## 4. Contextual Bandits - LinUCB"
   ]
  },
  {
   "cell_type": "code",
   "execution_count": 13,
   "metadata": {},
   "outputs": [],
   "source": [
    "class LinUCB(MAB):\n",
    "    \"\"\"\n",
    "    Contextual multi-armed bandit (LinUCB)\n",
    "\n",
    "    Arguments\n",
    "    =========\n",
    "    narms : int\n",
    "        number of arms\n",
    "\n",
    "    ndims : int\n",
    "        number of dimensions for each arm's context\n",
    "\n",
    "    alpha : float\n",
    "        positive real explore-exploit parameter\n",
    "    \"\"\"\n",
    "    \n",
    "    def __init__(self, narms, ndims, alpha):\n",
    "        # Check that narms,ndims and alpha(it can be zero) is positive value\n",
    "        assert narms > 0\n",
    "        assert ndims > 0\n",
    "        assert alpha >=0\n",
    "        self.narms=int(narms)\n",
    "        self.ndims=int(ndims)\n",
    "        self.alpha=float(alpha)\n",
    "        #Initialize A,b,theta_hat and pt_a value list\n",
    "        self.A=[0 for i in range(self.narms)]\n",
    "        self.b=[0 for i in range(self.narms)]\n",
    "        self.theta_hat=[0 for i in range(self.narms)]\n",
    "        self.pt_a=[0 for i in range(self.narms)]\n",
    "        # Initialize in each of A,b list to be identity matrix of ndims dimension\n",
    "        # and vector of zero of ndims dimenstion respectively \n",
    "        for i in range(self.narms):\n",
    "            self.A[i]=np.identity(self.ndims)\n",
    "            self.b[i]=np.zeros((self.ndims,1))\n",
    "            \n",
    "    def play(self, tround, context):\n",
    "        #Check that tround is positive integer\n",
    "        assert tround>0\n",
    "        self.tround=tround\n",
    "        #Reshape the context into desired dimension so that we can do matrix multiplication\n",
    "        x=context.reshape(self.narms,self.ndims)\n",
    "        for i in range(self.narms):\n",
    "            #Reshape the x of each arm into self.narmsx1 dimenstion\n",
    "            xt=x[i].reshape(self.narms,1)\n",
    "            self.theta_hat[i] = inv(self.A[i]) @ self.b[i]\n",
    "            self.pt_a[i]=self.theta_hat[i].T @ xt + self.alpha * np.sqrt(xt.T @ inv(self.A[i]) @ xt)\n",
    "        ## Tie-breaking at completely uniformly-at-random\n",
    "        result = [i for i,j in enumerate(self.pt_a) if j==max(self.pt_a)]\n",
    "        return np.random.choice(result)+1\n",
    "    def update(self, arm, reward, context):\n",
    "        ## Check that arm value is no larger than narms\n",
    "        assert arm <= self.narms\n",
    "        self.arm=arm\n",
    "        self.reward=float(reward)\n",
    "        #Reshape the context into desired dimension so that we can do matrix multiplication\n",
    "        x = context.reshape(self.narms,self.ndims)\n",
    "        #Update the A and b value\n",
    "        self.A[arm-1] += x[arm-1].reshape(self.narms,1)@x[arm-1].reshape(self.narms,1).T\n",
    "        self.b[arm-1] += self.reward * x[arm-1].reshape(self.narms,1)\n",
    "        "
   ]
  },
  {
   "cell_type": "code",
   "execution_count": 14,
   "metadata": {},
   "outputs": [
    {
     "name": "stdout",
     "output_type": "stream",
     "text": [
      "LinUCB average reward 0.53\n"
     ]
    }
   ],
   "source": [
    "mab = LinUCB(10, 10, 1.0)\n",
    "results_LinUCB = offlineEvaluate(mab, arms, rewards, contexts, 800)\n",
    "print('LinUCB average reward', np.mean(results_LinUCB))"
   ]
  },
  {
   "cell_type": "markdown",
   "metadata": {},
   "source": [
    "## 5. Contextual Bandits - LinThompson"
   ]
  },
  {
   "cell_type": "code",
   "execution_count": 15,
   "metadata": {},
   "outputs": [],
   "source": [
    "class LinThompson(MAB):\n",
    "    \"\"\"\n",
    "    Contextual Thompson sampled multi-armed bandit (LinThompson)\n",
    "\n",
    "    Arguments\n",
    "    =========\n",
    "    narms : int\n",
    "        number of arms\n",
    "\n",
    "    ndims : int\n",
    "        number of dimensions for each arm's context\n",
    "\n",
    "    v : float\n",
    "        positive real explore-exploit parameter\n",
    "    \"\"\"\n",
    "    \n",
    "    def __init__(self, narms, ndims, v):\n",
    "        # Check that narms,ndims and v(it can be zero) is positive value\n",
    "        assert narms > 0\n",
    "        assert ndims > 0\n",
    "        assert v >= 0\n",
    "        self.narms=narms\n",
    "        self.ndims=ndims\n",
    "        self.v=v\n",
    "        #Initialize B to be identity matrix of ndims dimension\n",
    "        self.B=np.identity(self.ndims)\n",
    "        #Initialize m_hat and f to be zero vector of ndims dimension\n",
    "        self.m_hat=np.zeros((self.ndims,1))\n",
    "        self.f=np.zeros((self.ndims,1))\n",
    "\n",
    "    def play(self, tround, context):\n",
    "        #Check that tround is positive integer\n",
    "        assert tround>0\n",
    "        self.tround=tround\n",
    "        #Reshape the context into desired dimension so that we can do matrix multiplication\n",
    "        bt=context.reshape(self.narms,self.ndims)\n",
    "        #Sample from multivariate normal distribution\n",
    "        sample=np.random.multivariate_normal(self.m_hat.reshape(-1),self.v**2 * inv(self.B))\n",
    "        #Matrix multiplications of bt and sample\n",
    "        a=bt@sample\n",
    "        ## Tie-breaking at completely uniformly-at-random\n",
    "        result = [i for i,j in enumerate(a) if j==max(a)]\n",
    "        return np.random.choice(result)+1\n",
    "    \n",
    "    def update(self, arm, reward, context):\n",
    "        ## Check that arm value is no larger than narms\n",
    "        assert arm <= self.narms\n",
    "        self.arm=arm\n",
    "        self.reward=float(reward)\n",
    "        #Reshape the context into desired dimension so that we can do matrix multiplication\n",
    "        x = context.reshape(self.narms,self.ndims)  \n",
    "        #Update the B,f and m_hat value of the arm\n",
    "        self.B+=x[arm-1].reshape(self.narms,1)@x[arm-1].reshape(self.narms,1).T\n",
    "        self.f+=x[arm-1].reshape(self.narms,1)*self.reward\n",
    "        self.m_hat=inv(self.B)@self.f\n",
    "    "
   ]
  },
  {
   "cell_type": "code",
   "execution_count": 16,
   "metadata": {},
   "outputs": [
    {
     "name": "stdout",
     "output_type": "stream",
     "text": [
      "LinThompson average reward 0.3\n"
     ]
    }
   ],
   "source": [
    "mab = LinThompson(10, 10, 1.0)\n",
    "results_LinThompson = offlineEvaluate(mab, arms, rewards, contexts, 800)\n",
    "print('LinThompson average reward', np.mean(results_LinThompson))"
   ]
  },
  {
   "cell_type": "markdown",
   "metadata": {},
   "source": [
    "## 6. Evaluation\n",
    "### 6.A."
   ]
  },
  {
   "cell_type": "code",
   "execution_count": 17,
   "metadata": {},
   "outputs": [
    {
     "name": "stderr",
     "output_type": "stream",
     "text": [
      "/usr/local/lib/python3.7/site-packages/ipykernel_launcher.py:37: RuntimeWarning: divide by zero encountered in true_divide\n"
     ]
    },
    {
     "data": {
      "image/png": "[encoded data removed]",
      "text/plain": [
       "<Figure size 432x288 with 1 Axes>"
      ]
     },
     "metadata": {
      "needs_background": "light"
     },
     "output_type": "display_data"
    }
   ],
   "source": [
    "#Run offlineEvaluate function on each method\n",
    "results_EpsGreedy = offlineEvaluate(EpsGreedy(10, 0.05), arms, rewards, contexts, 800) \n",
    "\n",
    "results_UCB = offlineEvaluate(UCB(10, 1.0), arms, rewards, contexts, 800) \n",
    "\n",
    "results_BetaThompson = offlineEvaluate(BetaThompson(10, 1.0, 1.0), arms, rewards, contexts, 800) \n",
    "\n",
    "results_LinUCB = offlineEvaluate(LinUCB(10, 10, 1.0), arms, rewards, contexts, 800)\n",
    "\n",
    "results_LinThompson = offlineEvaluate(LinThompson(10, 10, 1.0), arms, rewards, contexts, 800)\n",
    "\n",
    "# List of reward for each MAB algorithm\n",
    "reward_Eps_Greedy=list()\n",
    "reward_ucb=list()\n",
    "reward_betathompson=list()\n",
    "reward_LinUCB=list()\n",
    "reward_LinThompson=list()\n",
    "\n",
    "#Loop for 800 rounds\n",
    "#The reason that I use range(1,801) is because when calculate mean\n",
    "#if i start at zero it will gives an error\n",
    "for i in range(1,801):\n",
    "    reward_Eps_Greedy.append(sum(results_EpsGreedy[:i-1])/i)\n",
    "    reward_ucb.append(sum(results_UCB[:i-1])/i)\n",
    "    reward_betathompson.append(sum(results_BetaThompson[:i-1])/i)\n",
    "    reward_LinUCB.append(sum(results_LinUCB[:i-1])/i)\n",
    "    reward_LinThompson.append(sum(results_LinThompson[:i-1])/i)\n",
    "\n",
    "#Plot the graph\n",
    "plt.xlabel('Rounds')\n",
    "plt.ylabel('Average Rewards')\n",
    "plt.title(\"Reward Graph\")\n",
    "plt.plot(reward_Eps_Greedy ,label = \"Epsilon Greedy\")\n",
    "plt.plot(reward_ucb ,label = \"UCB\")\n",
    "plt.plot(reward_betathompson,label=\"Beta Thompson\")\n",
    "plt.plot(reward_LinUCB,label=\"LinUCB\")\n",
    "plt.plot(reward_LinThompson,label=\"Lin Thompson\")\n",
    "plt.legend(loc=\"best\",bbox_to_anchor=(1,1))\n",
    "plt.show()"
   ]
  },
  {
   "cell_type": "markdown",
   "metadata": {},
   "source": [
    "### 6.B."
   ]
  },
  {
   "cell_type": "code",
   "execution_count": 18,
   "metadata": {},
   "outputs": [],
   "source": [
    "#Set max result of each alpha and v to -1\n",
    "max_result_alpha=-1\n",
    "max_result_v=-1\n",
    "\n",
    "#Initial value of alpha and v set to zero\n",
    "alpha=0.0\n",
    "v=0.0 \n",
    "\n",
    "#List of alpha value and reward of each alpha value\n",
    "list_alpha=list()\n",
    "reward_alpha=list()\n",
    "\n",
    "#List of v value and reward of each alpha v\n",
    "list_v=list()\n",
    "reward_v=list()\n",
    "\n",
    "#Loop until both alpha and v is greater than 1.0\n",
    "while(True):  \n",
    "    if(alpha>1.0 and v>1.0):\n",
    "        break\n",
    "    results_LinUCB = offlineEvaluate(LinUCB(10, 10, alpha), arms, rewards, contexts, 800)\n",
    "    #Check for maximum value then save it\n",
    "    if max_result_alpha < np.mean(results_LinUCB):\n",
    "        max_result_alpha=np.mean(results_LinUCB)\n",
    "        optimal_alpha=alpha\n",
    "    #Check for maximum value then save it\n",
    "    results_LinThompson = offlineEvaluate(LinThompson(10, 10, v), arms, rewards, contexts, 800)\n",
    "    if max_result_v < np.mean(results_LinThompson):\n",
    "        max_result_v=np.mean(results_LinThompson)\n",
    "        optimal_v=v\n",
    "    #Append both alpha and reward to the list\n",
    "    list_alpha.append(alpha)\n",
    "    reward_alpha.append(np.mean(results_LinUCB))\n",
    "    list_v.append(v)\n",
    "    reward_v.append(np.mean(results_LinThompson))\n",
    "    #Increment alpha and v value by 0.01\n",
    "    alpha+=0.01\n",
    "    v+=0.01"
   ]
  },
  {
   "cell_type": "code",
   "execution_count": 23,
   "metadata": {},
   "outputs": [
    {
     "name": "stdout",
     "output_type": "stream",
     "text": [
      "The maximum reward that can be achieve by LinUCB is 0.73125 with alpha value of 0.02\n",
      "The maximum reward that can be achieve by LinThompson is 0.4475 with v value of 0.06\n"
     ]
    },
    {
     "data": {
      "image/png": "[encoded data removed]",
      "text/plain": [
       "<Figure size 432x288 with 1 Axes>"
      ]
     },
     "metadata": {
      "needs_background": "light"
     },
     "output_type": "display_data"
    }
   ],
   "source": [
    "print(\"The maximum reward that can be achieve by LinUCB is {} with alpha value of {:.2f}\".format(max(reward_alpha),optimal_alpha))\n",
    "print(\"The maximum reward that can be achieve by LinThompson is {} with v value of {:.2f}\".format(max(reward_v),optimal_v))\n",
    "\n",
    "\n",
    "plt.xlabel(\"a,v\")\n",
    "plt.ylabel(\"Average Rewards\")\n",
    "plt.title(\"Reward Graph\")\n",
    "plt.plot(list_alpha,reward_alpha,label = \"alpha\")\n",
    "plt.plot(list_v,reward_v,label = \"v\")\n",
    "plt.legend(loc=\"best\",bbox_to_anchor=(1,1))\n",
    "plt.show()"
   ]
  },
  {
   "cell_type": "code",
   "execution_count": 3,
   "metadata": {},
   "outputs": [],
   "source": [
    "alpha_range = np.logspace(-3, 3, num=16)"
   ]
  },
  {
   "cell_type": "code",
   "execution_count": 4,
   "metadata": {},
   "outputs": [
    {
     "data": {
      "text/plain": [
       "array([1.00000000e-03, 2.51188643e-03, 6.30957344e-03, 1.58489319e-02,\n",
       "       3.98107171e-02, 1.00000000e-01, 2.51188643e-01, 6.30957344e-01,\n",
       "       1.58489319e+00, 3.98107171e+00, 1.00000000e+01, 2.51188643e+01,\n",
       "       6.30957344e+01, 1.58489319e+02, 3.98107171e+02, 1.00000000e+03])"
      ]
     },
     "execution_count": 4,
     "metadata": {},
     "output_type": "execute_result"
    }
   ],
   "source": [
    "alpha_range"
   ]
  },
  {
   "cell_type": "code",
   "execution_count": null,
   "metadata": {},
   "outputs": [],
   "source": []
  }
 ],
 "metadata": {
  "kernelspec": {
   "display_name": "Python 3",
   "language": "python",
   "name": "python3"
  },
  "language_info": {
   "codemirror_mode": {
    "name": "ipython",
    "version": 3
   },
   "file_extension": ".py",
   "mimetype": "text/x-python",
   "name": "python",
   "nbconvert_exporter": "python",
   "pygments_lexer": "ipython3",
   "version": "3.7.3"
  }
 },
 "nbformat": 4,
 "nbformat_minor": 2
}
